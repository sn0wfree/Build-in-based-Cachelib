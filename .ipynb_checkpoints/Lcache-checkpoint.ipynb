{
 "cells": [
  {
   "cell_type": "code",
   "execution_count": 1,
   "metadata": {},
   "outputs": [],
   "source": [
    "from collections import OrderedDict"
   ]
  },
  {
   "cell_type": "code",
   "execution_count": 2,
   "metadata": {},
   "outputs": [],
   "source": [
    "\n",
    "class LastUpdatedOrderedDict(OrderedDict):\n",
    "\n",
    "    def __init__(self, capacity):\n",
    "        super(LastUpdatedOrderedDict, self).__init__()\n",
    "        self._capacity = capacity\n",
    "\n",
    "    def __setitem__(self, key, value):\n",
    "        containsKey = 1 if key in self else 0\n",
    "        if len(self) - containsKey >= self._capacity:\n",
    "            last = self.popitem(last=False)\n",
    "            # print 'remove:', last\n",
    "        if containsKey:\n",
    "            del self[key]\n",
    "            # print 'set:', (key, value)\n",
    "        else:\n",
    "            pass\n",
    "            # print 'add:', (key, value)\n",
    "        OrderedDict.__setitem__(self, key, value)\n",
    "\n",
    "\n",
    "def Lcache(capacity=250):\n",
    "    # LRU\n",
    "    memo = LastUpdatedOrderedDict(capacity)\n",
    "\n",
    "    def cache(func):\n",
    "        def _wrapper(*args):\n",
    "            res = memo.get(args, None)\n",
    "            if res is not None:\n",
    "                return res\n",
    "            else:\n",
    "                res = func(*args)\n",
    "                memo[args] = res\n",
    "            return res\n",
    "        return _wrapper\n",
    "    return cache"
   ]
  },
  {
   "cell_type": "code",
   "execution_count": 3,
   "metadata": {},
   "outputs": [],
   "source": [
    "@Lcache\n",
    "def fib(n):\n",
    "    if n <= 1:\n",
    "        return n\n",
    "    else:\n",
    "        return fib(n - 1) + fib(n - 2)"
   ]
  },
  {
   "cell_type": "code",
   "execution_count": 12,
   "metadata": {},
   "outputs": [
    {
     "name": "stdout",
     "output_type": "stream",
     "text": [
      " "
     ]
    },
    {
     "data": {
      "text/plain": [
       "         10000002 function calls in 18.267 seconds\n",
       "\n",
       "   Ordered by: internal time\n",
       "\n",
       "   ncalls  tottime  percall  cumtime  percall filename:lineno(function)\n",
       " 10000000   10.316    0.000   10.316    0.000 <ipython-input-2-80d1368e1f8e>:26(cache)\n",
       "        1    7.951    7.951   18.267   18.267 <string>:1(<module>)\n",
       "        1    0.000    0.000    0.000    0.000 {method 'disable' of '_lsprof.Profiler' objects}"
      ]
     },
     "metadata": {},
     "output_type": "display_data"
    }
   ],
   "source": [
    "%prun [fib(i) for i in xrange(10000000)]\n",
    "# cached;\n",
    "#100 102 0.002s          \n",
    "#1000 1002 0.001 cached;   \n",
    "#10000 10002 0.014 cached; \n",
    "#100000 100002 0.167 \n",
    "#1000000 1000002 1.915\n",
    "#10000000 10000002 18.267"
   ]
  },
  {
   "cell_type": "code",
   "execution_count": null,
   "metadata": {},
   "outputs": [],
   "source": []
  }
 ],
 "metadata": {
  "kernelspec": {
   "display_name": "Python 2",
   "language": "python",
   "name": "python2"
  },
  "language_info": {
   "codemirror_mode": {
    "name": "ipython",
    "version": 2
   },
   "file_extension": ".py",
   "mimetype": "text/x-python",
   "name": "python",
   "nbconvert_exporter": "python",
   "pygments_lexer": "ipython2",
   "version": "2.7.14"
  }
 },
 "nbformat": 4,
 "nbformat_minor": 2
}
