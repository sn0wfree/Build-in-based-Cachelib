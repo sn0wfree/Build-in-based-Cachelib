{
 "cells": [
  {
   "cell_type": "code",
   "execution_count": 1,
   "metadata": {},
   "outputs": [],
   "source": [
    "def cache(func):\n",
    "    memo = {}\n",
    "\n",
    "    def _wrapper(*args):\n",
    "        res = memo.get(args, None)\n",
    "        if res is not None:\n",
    "            return res\n",
    "        else:\n",
    "            res = func(*args)\n",
    "            memo[args] = res\n",
    "        return res\n",
    "    return _wrapper"
   ]
  },
  {
   "cell_type": "code",
   "execution_count": 11,
   "metadata": {},
   "outputs": [],
   "source": [
    "@cache\n",
    "def fib(n):\n",
    "    if n <= 1:\n",
    "        return n\n",
    "    else:\n",
    "        return fib(n - 1) + fib(n - 2)"
   ]
  },
  {
   "cell_type": "code",
   "execution_count": 21,
   "metadata": {},
   "outputs": [
    {
     "name": "stdout",
     "output_type": "stream",
     "text": [
      " "
     ]
    },
    {
     "data": {
      "text/plain": [
       "         18454897 function calls (35 primitive calls) in 6.717 seconds\n",
       "\n",
       "   Ordered by: internal time\n",
       "\n",
       "   ncalls  tottime  percall  cumtime  percall filename:lineno(function)\n",
       "18454895/33    6.717    0.000    6.717    0.204 <ipython-input-11-989e2db9b492>:2(fib)\n",
       "        1    0.000    0.000    6.717    6.717 <string>:1(<module>)\n",
       "        1    0.000    0.000    0.000    0.000 {method 'disable' of '_lsprof.Profiler' objects}"
      ]
     },
     "metadata": {},
     "output_type": "display_data"
    }
   ],
   "source": [
    "%prun [fib(i) for i in xrange(33)]\n",
    "#100 202 0 cached;         10 278 0 Noncached\n",
    "#1000 2002 0.001 cached;   20 35402 0.019\n",
    "#10000 20002 0.016 cached; 30 4356588 1.595"
   ]
  },
  {
   "cell_type": "code",
   "execution_count": null,
   "metadata": {},
   "outputs": [],
   "source": []
  }
 ],
 "metadata": {
  "kernelspec": {
   "display_name": "Python 2",
   "language": "python",
   "name": "python2"
  },
  "language_info": {
   "codemirror_mode": {
    "name": "ipython",
    "version": 2
   },
   "file_extension": ".py",
   "mimetype": "text/x-python",
   "name": "python",
   "nbconvert_exporter": "python",
   "pygments_lexer": "ipython2",
   "version": "2.7.14"
  }
 },
 "nbformat": 4,
 "nbformat_minor": 2
}
